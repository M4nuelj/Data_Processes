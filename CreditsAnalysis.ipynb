{
 "cells": [
  {
   "attachments": {},
   "cell_type": "markdown",
   "metadata": {},
   "source": [
    "## This notebook will contain the credits analysis"
   ]
  },
  {
   "cell_type": "code",
   "execution_count": 5,
   "metadata": {},
   "outputs": [],
   "source": [
    "# Import the libraries that will be used within the code\n",
    "\n",
    "import pandas as pd\n",
    "import numpy as np\n",
    "import seaborn as sns\n",
    "import matplotlib.pyplot as plt\n",
    "import locale\n",
    "from sklearn.preprocessing import StandardScaler\n"
   ]
  },
  {
   "cell_type": "code",
   "execution_count": 6,
   "metadata": {},
   "outputs": [],
   "source": [
    "# Data is imported\n",
    "\n",
    "path = 'C:/Users/j.renza/OneDrive - Solvo a Turia Group Company/Credit Memos Data/'\n",
    "\n",
    "Clients = pd.read_excel(path + 'Client_Data.xlsx')\n",
    "\n",
    "Departments = pd.read_excel(path + 'Credit_Reasons_by_Department.xlsx')\n",
    "\n",
    "Credits = pd.read_excel(path + 'CreditMemos.xlsx')\n",
    "\n"
   ]
  },
  {
   "cell_type": "code",
   "execution_count": 7,
   "metadata": {},
   "outputs": [
    {
     "data": {
      "text/html": [
       "<div>\n",
       "<style scoped>\n",
       "    .dataframe tbody tr th:only-of-type {\n",
       "        vertical-align: middle;\n",
       "    }\n",
       "\n",
       "    .dataframe tbody tr th {\n",
       "        vertical-align: top;\n",
       "    }\n",
       "\n",
       "    .dataframe thead th {\n",
       "        text-align: right;\n",
       "    }\n",
       "</style>\n",
       "<table border=\"1\" class=\"dataframe\">\n",
       "  <thead>\n",
       "    <tr style=\"text-align: right;\">\n",
       "      <th></th>\n",
       "      <th>CustomerCode</th>\n",
       "      <th>Client_Name</th>\n",
       "    </tr>\n",
       "  </thead>\n",
       "  <tbody>\n",
       "    <tr>\n",
       "      <th>0</th>\n",
       "      <td>HKSEIN</td>\n",
       "      <td>ESTRELLA SUPERMERCADO</td>\n",
       "    </tr>\n",
       "    <tr>\n",
       "      <th>1</th>\n",
       "      <td>HRTIRG</td>\n",
       "      <td>EL MARISCO GRILL LLC</td>\n",
       "    </tr>\n",
       "    <tr>\n",
       "      <th>2</th>\n",
       "      <td>HKVPRR</td>\n",
       "      <td>TIENDA MEXICANA EL CHAPARRO</td>\n",
       "    </tr>\n",
       "    <tr>\n",
       "      <th>3</th>\n",
       "      <td>NRAFPE</td>\n",
       "      <td>FRONTERA PEACHTREE</td>\n",
       "    </tr>\n",
       "    <tr>\n",
       "      <th>4</th>\n",
       "      <td>HKVLIL</td>\n",
       "      <td>LILY'S CARNICERIA</td>\n",
       "    </tr>\n",
       "  </tbody>\n",
       "</table>\n",
       "</div>"
      ],
      "text/plain": [
       "  CustomerCode                  Client_Name\n",
       "0       HKSEIN        ESTRELLA SUPERMERCADO\n",
       "1       HRTIRG         EL MARISCO GRILL LLC\n",
       "2       HKVPRR  TIENDA MEXICANA EL CHAPARRO\n",
       "3       NRAFPE           FRONTERA PEACHTREE\n",
       "4       HKVLIL            LILY'S CARNICERIA"
      ]
     },
     "execution_count": 7,
     "metadata": {},
     "output_type": "execute_result"
    }
   ],
   "source": [
    "Clients.head()"
   ]
  },
  {
   "cell_type": "code",
   "execution_count": 8,
   "metadata": {},
   "outputs": [
    {
     "data": {
      "text/html": [
       "<div>\n",
       "<style scoped>\n",
       "    .dataframe tbody tr th:only-of-type {\n",
       "        vertical-align: middle;\n",
       "    }\n",
       "\n",
       "    .dataframe tbody tr th {\n",
       "        vertical-align: top;\n",
       "    }\n",
       "\n",
       "    .dataframe thead th {\n",
       "        text-align: right;\n",
       "    }\n",
       "</style>\n",
       "<table border=\"1\" class=\"dataframe\">\n",
       "  <thead>\n",
       "    <tr style=\"text-align: right;\">\n",
       "      <th></th>\n",
       "      <th>CRR</th>\n",
       "      <th>Dpt</th>\n",
       "    </tr>\n",
       "  </thead>\n",
       "  <tbody>\n",
       "    <tr>\n",
       "      <th>0</th>\n",
       "      <td>Not ordered (Sales/TLMKT)</td>\n",
       "      <td>Sales</td>\n",
       "    </tr>\n",
       "    <tr>\n",
       "      <th>1</th>\n",
       "      <td>Wrong Item (Sales/TLMKT)</td>\n",
       "      <td>Sales</td>\n",
       "    </tr>\n",
       "    <tr>\n",
       "      <th>2</th>\n",
       "      <td>Wrong Item (Customer)</td>\n",
       "      <td>Client</td>\n",
       "    </tr>\n",
       "    <tr>\n",
       "      <th>3</th>\n",
       "      <td>Wrong Item (Plant)</td>\n",
       "      <td>Warehouse</td>\n",
       "    </tr>\n",
       "    <tr>\n",
       "      <th>4</th>\n",
       "      <td>Wrong Brand</td>\n",
       "      <td>Purchasing/Warehouse</td>\n",
       "    </tr>\n",
       "  </tbody>\n",
       "</table>\n",
       "</div>"
      ],
      "text/plain": [
       "                         CRR                   Dpt\n",
       "0  Not ordered (Sales/TLMKT)                 Sales\n",
       "1   Wrong Item (Sales/TLMKT)                 Sales\n",
       "2      Wrong Item (Customer)                Client\n",
       "3         Wrong Item (Plant)             Warehouse\n",
       "4                Wrong Brand  Purchasing/Warehouse"
      ]
     },
     "execution_count": 8,
     "metadata": {},
     "output_type": "execute_result"
    }
   ],
   "source": [
    "Departments.head()"
   ]
  },
  {
   "cell_type": "code",
   "execution_count": 9,
   "metadata": {},
   "outputs": [
    {
     "data": {
      "text/html": [
       "<div>\n",
       "<style scoped>\n",
       "    .dataframe tbody tr th:only-of-type {\n",
       "        vertical-align: middle;\n",
       "    }\n",
       "\n",
       "    .dataframe tbody tr th {\n",
       "        vertical-align: top;\n",
       "    }\n",
       "\n",
       "    .dataframe thead th {\n",
       "        text-align: right;\n",
       "    }\n",
       "</style>\n",
       "<table border=\"1\" class=\"dataframe\">\n",
       "  <thead>\n",
       "    <tr style=\"text-align: right;\">\n",
       "      <th></th>\n",
       "      <th>Date</th>\n",
       "      <th>CreditReason</th>\n",
       "      <th>CustomerCode</th>\n",
       "      <th>State</th>\n",
       "      <th>CountInvoice</th>\n",
       "      <th>NetWeight</th>\n",
       "      <th>Sales</th>\n",
       "    </tr>\n",
       "  </thead>\n",
       "  <tbody>\n",
       "    <tr>\n",
       "      <th>0</th>\n",
       "      <td>2018-01-02</td>\n",
       "      <td>Wrong Item (Sales/TLMKT)</td>\n",
       "      <td>HKSEIN</td>\n",
       "      <td>SC</td>\n",
       "      <td>1</td>\n",
       "      <td>40.00</td>\n",
       "      <td>127.60</td>\n",
       "    </tr>\n",
       "    <tr>\n",
       "      <th>1</th>\n",
       "      <td>2018-01-02</td>\n",
       "      <td>Wrong Item (Sales/TLMKT)</td>\n",
       "      <td>HRTIRG</td>\n",
       "      <td>TN</td>\n",
       "      <td>1</td>\n",
       "      <td>66.00</td>\n",
       "      <td>164.34</td>\n",
       "    </tr>\n",
       "    <tr>\n",
       "      <th>2</th>\n",
       "      <td>2018-01-02</td>\n",
       "      <td>Wrong Item (Customer)</td>\n",
       "      <td>HKVPRR</td>\n",
       "      <td>VA</td>\n",
       "      <td>1</td>\n",
       "      <td>40.50</td>\n",
       "      <td>32.00</td>\n",
       "    </tr>\n",
       "    <tr>\n",
       "      <th>3</th>\n",
       "      <td>2018-01-02</td>\n",
       "      <td>Wrong Item (Customer)</td>\n",
       "      <td>NRAFPE</td>\n",
       "      <td>GA</td>\n",
       "      <td>1</td>\n",
       "      <td>7.14</td>\n",
       "      <td>121.49</td>\n",
       "    </tr>\n",
       "    <tr>\n",
       "      <th>4</th>\n",
       "      <td>2018-01-02</td>\n",
       "      <td>Wrong Brand</td>\n",
       "      <td>HKVLIL</td>\n",
       "      <td>VA</td>\n",
       "      <td>1</td>\n",
       "      <td>341.70</td>\n",
       "      <td>1844.84</td>\n",
       "    </tr>\n",
       "  </tbody>\n",
       "</table>\n",
       "</div>"
      ],
      "text/plain": [
       "        Date              CreditReason CustomerCode State  CountInvoice  \\\n",
       "0 2018-01-02  Wrong Item (Sales/TLMKT)       HKSEIN    SC             1   \n",
       "1 2018-01-02  Wrong Item (Sales/TLMKT)       HRTIRG    TN             1   \n",
       "2 2018-01-02     Wrong Item (Customer)       HKVPRR    VA             1   \n",
       "3 2018-01-02     Wrong Item (Customer)       NRAFPE    GA             1   \n",
       "4 2018-01-02               Wrong Brand       HKVLIL    VA             1   \n",
       "\n",
       "   NetWeight    Sales  \n",
       "0      40.00   127.60  \n",
       "1      66.00   164.34  \n",
       "2      40.50    32.00  \n",
       "3       7.14   121.49  \n",
       "4     341.70  1844.84  "
      ]
     },
     "execution_count": 9,
     "metadata": {},
     "output_type": "execute_result"
    }
   ],
   "source": [
    "Credits.head()"
   ]
  },
  {
   "cell_type": "code",
   "execution_count": 10,
   "metadata": {},
   "outputs": [],
   "source": [
    "# Credits by Month\n",
    "\n",
    "init_date = '2023-06-01'\n",
    "\n",
    "end_date = '2023-06-30'"
   ]
  },
  {
   "cell_type": "code",
   "execution_count": 11,
   "metadata": {},
   "outputs": [],
   "source": [
    "CreditsJune2023 = Credits[(Credits.Date >= init_date) & (Credits.Date <= end_date)]\n",
    "\n",
    "CreditsJune2023.reset_index(drop = True, inplace = True)"
   ]
  },
  {
   "cell_type": "code",
   "execution_count": 12,
   "metadata": {},
   "outputs": [],
   "source": [
    "Temp1 = CreditsJune2023.merge(Clients, right_on = 'CustomerCode', left_on = 'CustomerCode', how = 'inner')"
   ]
  },
  {
   "cell_type": "code",
   "execution_count": 13,
   "metadata": {},
   "outputs": [],
   "source": [
    "CreditsJune2023 = Temp1.merge(Departments, right_on = 'CRR', left_on = 'CreditReason', how = 'inner')"
   ]
  },
  {
   "cell_type": "code",
   "execution_count": 14,
   "metadata": {},
   "outputs": [],
   "source": [
    "CreditsJune2023 = CreditsJune2023[['Date', 'CRR', 'CustomerCode', 'Client_Name', 'State', 'CountInvoice', 'NetWeight', 'Sales', 'Dpt']]"
   ]
  },
  {
   "cell_type": "code",
   "execution_count": 15,
   "metadata": {},
   "outputs": [
    {
     "data": {
      "text/html": [
       "<div>\n",
       "<style scoped>\n",
       "    .dataframe tbody tr th:only-of-type {\n",
       "        vertical-align: middle;\n",
       "    }\n",
       "\n",
       "    .dataframe tbody tr th {\n",
       "        vertical-align: top;\n",
       "    }\n",
       "\n",
       "    .dataframe thead th {\n",
       "        text-align: right;\n",
       "    }\n",
       "</style>\n",
       "<table border=\"1\" class=\"dataframe\">\n",
       "  <thead>\n",
       "    <tr style=\"text-align: right;\">\n",
       "      <th></th>\n",
       "      <th>Date</th>\n",
       "      <th>CRR</th>\n",
       "      <th>CustomerCode</th>\n",
       "      <th>Client_Name</th>\n",
       "      <th>State</th>\n",
       "      <th>CountInvoice</th>\n",
       "      <th>NetWeight</th>\n",
       "      <th>Sales</th>\n",
       "      <th>Dpt</th>\n",
       "    </tr>\n",
       "  </thead>\n",
       "  <tbody>\n",
       "    <tr>\n",
       "      <th>0</th>\n",
       "      <td>2023-06-01</td>\n",
       "      <td>Not ordered (Sales/TLMKT)</td>\n",
       "      <td>HRKTOQ</td>\n",
       "      <td>JALISCO EL TOQUE CHINGON</td>\n",
       "      <td>KY</td>\n",
       "      <td>1</td>\n",
       "      <td>70.2</td>\n",
       "      <td>420.50</td>\n",
       "      <td>Sales</td>\n",
       "    </tr>\n",
       "    <tr>\n",
       "      <th>1</th>\n",
       "      <td>2023-06-05</td>\n",
       "      <td>Not ordered (Sales/TLMKT)</td>\n",
       "      <td>NRAFPE</td>\n",
       "      <td>FRONTERA PEACHTREE</td>\n",
       "      <td>GA</td>\n",
       "      <td>1</td>\n",
       "      <td>20.0</td>\n",
       "      <td>60.02</td>\n",
       "      <td>Sales</td>\n",
       "    </tr>\n",
       "    <tr>\n",
       "      <th>2</th>\n",
       "      <td>2023-06-06</td>\n",
       "      <td>Not ordered (Sales/TLMKT)</td>\n",
       "      <td>HKFEXI</td>\n",
       "      <td>TIENDA LA MEXICANA INC</td>\n",
       "      <td>FL</td>\n",
       "      <td>1</td>\n",
       "      <td>55.0</td>\n",
       "      <td>133.47</td>\n",
       "      <td>Sales</td>\n",
       "    </tr>\n",
       "    <tr>\n",
       "      <th>3</th>\n",
       "      <td>2023-06-06</td>\n",
       "      <td>Not ordered (Sales/TLMKT)</td>\n",
       "      <td>HKNAOM</td>\n",
       "      <td>FIESTA FOOD MARKET</td>\n",
       "      <td>NC</td>\n",
       "      <td>1</td>\n",
       "      <td>260.0</td>\n",
       "      <td>1105.00</td>\n",
       "      <td>Sales</td>\n",
       "    </tr>\n",
       "    <tr>\n",
       "      <th>4</th>\n",
       "      <td>2023-06-06</td>\n",
       "      <td>Not ordered (Sales/TLMKT)</td>\n",
       "      <td>HRGAL3</td>\n",
       "      <td>SALSAS #3</td>\n",
       "      <td>GA</td>\n",
       "      <td>1</td>\n",
       "      <td>20.0</td>\n",
       "      <td>84.80</td>\n",
       "      <td>Sales</td>\n",
       "    </tr>\n",
       "  </tbody>\n",
       "</table>\n",
       "</div>"
      ],
      "text/plain": [
       "        Date                        CRR CustomerCode  \\\n",
       "0 2023-06-01  Not ordered (Sales/TLMKT)       HRKTOQ   \n",
       "1 2023-06-05  Not ordered (Sales/TLMKT)       NRAFPE   \n",
       "2 2023-06-06  Not ordered (Sales/TLMKT)       HKFEXI   \n",
       "3 2023-06-06  Not ordered (Sales/TLMKT)       HKNAOM   \n",
       "4 2023-06-06  Not ordered (Sales/TLMKT)       HRGAL3   \n",
       "\n",
       "                Client_Name State  CountInvoice  NetWeight    Sales    Dpt  \n",
       "0  JALISCO EL TOQUE CHINGON    KY             1       70.2   420.50  Sales  \n",
       "1        FRONTERA PEACHTREE    GA             1       20.0    60.02  Sales  \n",
       "2    TIENDA LA MEXICANA INC    FL             1       55.0   133.47  Sales  \n",
       "3        FIESTA FOOD MARKET    NC             1      260.0  1105.00  Sales  \n",
       "4                 SALSAS #3    GA             1       20.0    84.80  Sales  "
      ]
     },
     "execution_count": 15,
     "metadata": {},
     "output_type": "execute_result"
    }
   ],
   "source": [
    "CreditsJune2023.head()"
   ]
  },
  {
   "cell_type": "code",
   "execution_count": 16,
   "metadata": {},
   "outputs": [
    {
     "data": {
      "text/plain": [
       "245092.97"
      ]
     },
     "execution_count": 16,
     "metadata": {},
     "output_type": "execute_result"
    }
   ],
   "source": [
    "round(CreditsJune2023.Sales.sum(),2)"
   ]
  },
  {
   "cell_type": "code",
   "execution_count": 17,
   "metadata": {},
   "outputs": [],
   "source": [
    "SpoilageCustomer = CreditsJune2023[CreditsJune2023.CRR == 'Spoilage - Customer']"
   ]
  },
  {
   "cell_type": "code",
   "execution_count": 18,
   "metadata": {},
   "outputs": [
    {
     "data": {
      "text/plain": [
       "26604.22"
      ]
     },
     "execution_count": 18,
     "metadata": {},
     "output_type": "execute_result"
    }
   ],
   "source": [
    "SpoilageCustomer.Sales.sum()"
   ]
  },
  {
   "cell_type": "code",
   "execution_count": 19,
   "metadata": {},
   "outputs": [
    {
     "data": {
      "text/plain": [
       "0.10854746262204093"
      ]
     },
     "execution_count": 19,
     "metadata": {},
     "output_type": "execute_result"
    }
   ],
   "source": [
    "SpoilageCustomer.Sales.sum()/CreditsJune2023.Sales.sum()"
   ]
  },
  {
   "cell_type": "code",
   "execution_count": 20,
   "metadata": {},
   "outputs": [],
   "source": [
    "dataSC = SpoilageCustomer.groupby(by = 'State', as_index = False)['Sales'].sum().sort_values(by = 'Sales', ascending = False)"
   ]
  },
  {
   "cell_type": "code",
   "execution_count": 21,
   "metadata": {},
   "outputs": [
    {
     "data": {
      "text/plain": [
       "0.22107996400571037"
      ]
     },
     "execution_count": 21,
     "metadata": {},
     "output_type": "execute_result"
    }
   ],
   "source": [
    "5881.66/SpoilageCustomer.Sales.sum()"
   ]
  },
  {
   "attachments": {},
   "cell_type": "markdown",
   "metadata": {},
   "source": [
    "### Spoilage - Customer"
   ]
  },
  {
   "cell_type": "code",
   "execution_count": 22,
   "metadata": {},
   "outputs": [
    {
     "data": {
      "image/png": "[encoded data removed]",
      "text/plain": [
       "<Figure size 1000x600 with 1 Axes>"
      ]
     },
     "metadata": {},
     "output_type": "display_data"
    }
   ],
   "source": [
    "sns.set(style=\"whitegrid\")  # Setting the style of the plot\n",
    "plt.figure(figsize=(10, 6))  # Adjusting the figure size\n",
    "ax = sns.barplot(x='State', y='Sales', data=dataSC)\n",
    "\n",
    "locale.setlocale(locale.LC_ALL, 'en_US.UTF-8')\n",
    "\n",
    "# Adding labels to each bar\n",
    "for p in ax.patches:\n",
    "    height = p.get_height()\n",
    "    label = locale.currency(height, grouping=True)  # Format label as currency\n",
    "    ax.annotate(label,\n",
    "                (p.get_x() + p.get_width() / 2, height),\n",
    "                ha='center', va='center', xytext=(0, 5), textcoords='offset points',\n",
    "                fontsize = 9)\n",
    "\n",
    "# Customizing the plot\n",
    "# plt.title('Credits by State')  # Adding a title to the plot\n",
    "plt.xlabel('States')  # Adding a label to the x-axis\n",
    "plt.ylabel('Credits')  # Adding a label to the x-axis\n",
    "plt.xticks(rotation=0)  # Rotating x-axis labels for better readability\n",
    "\n",
    "plt.yticks([])\n",
    "sns.despine(top=True, right=True, left=True, bottom=True)\n",
    "\n",
    "# Adjusting the ylim to accommodate the labels\n",
    "plt.ylim(top=dataSC['Sales'].max() * 1.1)  # Increase the y-axis limit for labels\n",
    "\n",
    "# Displaying the plot\n",
    "plt.tight_layout()  # Adjusting the spacing\n",
    "plt.savefig('SCbyState.jpg')\n",
    "\n",
    "plt.show()"
   ]
  },
  {
   "attachments": {},
   "cell_type": "markdown",
   "metadata": {},
   "source": [
    "## Bad Appearance"
   ]
  },
  {
   "cell_type": "code",
   "execution_count": 23,
   "metadata": {},
   "outputs": [
    {
     "data": {
      "text/plain": [
       "array(['Not ordered (Sales/TLMKT)', 'Wrong Item (Sales/TLMKT)',\n",
       "       'Spoilage - Customer', 'Not In Truck', 'Ordered, But Not Wanted',\n",
       "       'Substituted, Rejected for Cust', 'Old CM, Not Notified.',\n",
       "       'Inadequate Expiration Date', 'Wrongly Invoiced',\n",
       "       'Maltreated/Mold', 'Not In Truck/End Route',\n",
       "       'Not In Truck/Wrong Customer', 'Wrong Item (Plant)',\n",
       "       'Wrong Item (Customer)', 'Wrong Brand', 'Unfinished Route',\n",
       "       'Cut Out Of Specs (Processing)', 'Bad Appearance',\n",
       "       'Business Closed', 'Not In Time', 'Weight Not Required',\n",
       "       'Billing Error', 'Not In Truck/Wrong Truck',\n",
       "       'Customer Has Too Much', 'Recall'], dtype=object)"
      ]
     },
     "execution_count": 23,
     "metadata": {},
     "output_type": "execute_result"
    }
   ],
   "source": [
    "CreditsJune2023.CRR.unique()"
   ]
  },
  {
   "cell_type": "code",
   "execution_count": 24,
   "metadata": {},
   "outputs": [],
   "source": [
    "BadAppearance = CreditsJune2023[CreditsJune2023.CRR == 'Bad Appearance']"
   ]
  },
  {
   "cell_type": "code",
   "execution_count": 25,
   "metadata": {},
   "outputs": [
    {
     "data": {
      "text/plain": [
       "16807.6"
      ]
     },
     "execution_count": 25,
     "metadata": {},
     "output_type": "execute_result"
    }
   ],
   "source": [
    "BadAppearance.Sales.sum()"
   ]
  },
  {
   "cell_type": "code",
   "execution_count": 26,
   "metadata": {},
   "outputs": [
    {
     "data": {
      "text/plain": [
       "0.0685764263250798"
      ]
     },
     "execution_count": 26,
     "metadata": {},
     "output_type": "execute_result"
    }
   ],
   "source": [
    "BadAppearance.Sales.sum()/CreditsJune2023.Sales.sum()"
   ]
  },
  {
   "cell_type": "code",
   "execution_count": 27,
   "metadata": {},
   "outputs": [],
   "source": [
    "dataBA = BadAppearance.groupby(by = 'State', as_index = False)['Sales'].sum().sort_values(by = 'Sales', ascending = False)"
   ]
  },
  {
   "cell_type": "code",
   "execution_count": 28,
   "metadata": {},
   "outputs": [
    {
     "data": {
      "text/plain": [
       "0.9024804255217879"
      ]
     },
     "execution_count": 28,
     "metadata": {},
     "output_type": "execute_result"
    }
   ],
   "source": [
    "15168.53/BadAppearance.Sales.sum()"
   ]
  },
  {
   "cell_type": "code",
   "execution_count": 29,
   "metadata": {},
   "outputs": [
    {
     "data": {
      "image/png": "[encoded data removed]",
      "text/plain": [
       "<Figure size 1000x600 with 1 Axes>"
      ]
     },
     "metadata": {},
     "output_type": "display_data"
    }
   ],
   "source": [
    "sns.set(style=\"whitegrid\")  # Setting the style of the plot\n",
    "plt.figure(figsize=(10, 6))  # Adjusting the figure size\n",
    "ax = sns.barplot(x='State', y='Sales', data=dataBA)\n",
    "\n",
    "locale.setlocale(locale.LC_ALL, 'en_US.UTF-8')\n",
    "\n",
    "# Adding labels to each bar\n",
    "for p in ax.patches:\n",
    "    height = p.get_height()\n",
    "    label = locale.currency(height, grouping=True)  # Format label as currency\n",
    "    ax.annotate(label,\n",
    "                (p.get_x() + p.get_width() / 2, height),\n",
    "                ha='center', va='center', xytext=(0, 5), textcoords='offset points',\n",
    "                fontsize = 9)\n",
    "\n",
    "# Customizing the plot\n",
    "# plt.title('Credits by State')  # Adding a title to the plot\n",
    "plt.xlabel('States')  # Adding a label to the x-axis\n",
    "plt.ylabel('Credits')  # Adding a label to the x-axis\n",
    "plt.xticks(rotation=0)  # Rotating x-axis labels for better readability\n",
    "\n",
    "plt.yticks([])\n",
    "sns.despine(top=True, right=True, left=True, bottom=True)\n",
    "\n",
    "# Adjusting the ylim to accommodate the labels\n",
    "plt.ylim(top=dataBA['Sales'].max() * 1.1)  # Increase the y-axis limit for labels\n",
    "\n",
    "# Displaying the plot\n",
    "plt.tight_layout()  # Adjusting the spacing\n",
    "plt.savefig('BAbyState.jpg')\n",
    "\n",
    "plt.show()"
   ]
  },
  {
   "attachments": {},
   "cell_type": "markdown",
   "metadata": {},
   "source": [
    "## Spoilage PM"
   ]
  },
  {
   "cell_type": "code",
   "execution_count": 30,
   "metadata": {},
   "outputs": [],
   "source": [
    "SpoilagePM = CreditsJune2023[CreditsJune2023.CRR == 'Spoilage PM']"
   ]
  },
  {
   "cell_type": "code",
   "execution_count": 31,
   "metadata": {},
   "outputs": [
    {
     "data": {
      "text/html": [
       "<div>\n",
       "<style scoped>\n",
       "    .dataframe tbody tr th:only-of-type {\n",
       "        vertical-align: middle;\n",
       "    }\n",
       "\n",
       "    .dataframe tbody tr th {\n",
       "        vertical-align: top;\n",
       "    }\n",
       "\n",
       "    .dataframe thead th {\n",
       "        text-align: right;\n",
       "    }\n",
       "</style>\n",
       "<table border=\"1\" class=\"dataframe\">\n",
       "  <thead>\n",
       "    <tr style=\"text-align: right;\">\n",
       "      <th></th>\n",
       "      <th>Date</th>\n",
       "      <th>CRR</th>\n",
       "      <th>CustomerCode</th>\n",
       "      <th>Client_Name</th>\n",
       "      <th>State</th>\n",
       "      <th>CountInvoice</th>\n",
       "      <th>NetWeight</th>\n",
       "      <th>Sales</th>\n",
       "      <th>Dpt</th>\n",
       "    </tr>\n",
       "  </thead>\n",
       "  <tbody>\n",
       "  </tbody>\n",
       "</table>\n",
       "</div>"
      ],
      "text/plain": [
       "Empty DataFrame\n",
       "Columns: [Date, CRR, CustomerCode, Client_Name, State, CountInvoice, NetWeight, Sales, Dpt]\n",
       "Index: []"
      ]
     },
     "execution_count": 31,
     "metadata": {},
     "output_type": "execute_result"
    }
   ],
   "source": [
    "SpoilagePM"
   ]
  },
  {
   "attachments": {},
   "cell_type": "markdown",
   "metadata": {},
   "source": [
    "## Statistical Behavior"
   ]
  },
  {
   "cell_type": "code",
   "execution_count": 32,
   "metadata": {},
   "outputs": [
    {
     "data": {
      "image/png": "[encoded data removed]",
      "text/plain": [
       "<Figure size 640x480 with 1 Axes>"
      ]
     },
     "metadata": {},
     "output_type": "display_data"
    }
   ],
   "source": [
    "# Creating the histogram\n",
    "sns.histplot(data= CreditsJune2023, x ='Sales', bins=10, kde=True)\n",
    "\n",
    "# Customizing the plot\n",
    "plt.title('Distribution of Credits')  # Adding a title to the plot\n",
    "plt.xlabel('Credits')  # Adding a label to the x-axis\n",
    "plt.ylabel('Frequency')  # Adding a label to the y-axis\n",
    "\n",
    "# plt.yticks([])\n",
    "sns.despine(top=True, right=True, left=True, bottom=True)\n",
    "\n",
    "# Displaying the plot\n",
    "plt.tight_layout()  # Adjusting the spacing\n",
    "plt.savefig('HistogramCredits2023.jpg')\n",
    "plt.show()"
   ]
  },
  {
   "cell_type": "code",
   "execution_count": 80,
   "metadata": {},
   "outputs": [],
   "source": [
    "#  Scatterplot Sales Vs Credits\n",
    "\n",
    "Sales = pd.read_excel(path + 'Sales2023.xlsx')"
   ]
  },
  {
   "cell_type": "code",
   "execution_count": 35,
   "metadata": {},
   "outputs": [
    {
     "data": {
      "text/html": [
       "<div>\n",
       "<style scoped>\n",
       "    .dataframe tbody tr th:only-of-type {\n",
       "        vertical-align: middle;\n",
       "    }\n",
       "\n",
       "    .dataframe tbody tr th {\n",
       "        vertical-align: top;\n",
       "    }\n",
       "\n",
       "    .dataframe thead th {\n",
       "        text-align: right;\n",
       "    }\n",
       "</style>\n",
       "<table border=\"1\" class=\"dataframe\">\n",
       "  <thead>\n",
       "    <tr style=\"text-align: right;\">\n",
       "      <th></th>\n",
       "      <th>Date</th>\n",
       "      <th>Day</th>\n",
       "      <th>Sales</th>\n",
       "    </tr>\n",
       "  </thead>\n",
       "  <tbody>\n",
       "    <tr>\n",
       "      <th>0</th>\n",
       "      <td>2023-06-01</td>\n",
       "      <td>Thursday</td>\n",
       "      <td>988514.90</td>\n",
       "    </tr>\n",
       "    <tr>\n",
       "      <th>1</th>\n",
       "      <td>2023-06-02</td>\n",
       "      <td>Friday</td>\n",
       "      <td>642032.07</td>\n",
       "    </tr>\n",
       "    <tr>\n",
       "      <th>2</th>\n",
       "      <td>2023-06-03</td>\n",
       "      <td>Saturday</td>\n",
       "      <td>73019.70</td>\n",
       "    </tr>\n",
       "    <tr>\n",
       "      <th>3</th>\n",
       "      <td>2023-06-04</td>\n",
       "      <td>Sunday</td>\n",
       "      <td>313163.97</td>\n",
       "    </tr>\n",
       "    <tr>\n",
       "      <th>4</th>\n",
       "      <td>2023-06-05</td>\n",
       "      <td>Monday</td>\n",
       "      <td>1068661.16</td>\n",
       "    </tr>\n",
       "  </tbody>\n",
       "</table>\n",
       "</div>"
      ],
      "text/plain": [
       "        Date       Day       Sales\n",
       "0 2023-06-01  Thursday   988514.90\n",
       "1 2023-06-02    Friday   642032.07\n",
       "2 2023-06-03  Saturday    73019.70\n",
       "3 2023-06-04    Sunday   313163.97\n",
       "4 2023-06-05    Monday  1068661.16"
      ]
     },
     "execution_count": 35,
     "metadata": {},
     "output_type": "execute_result"
    }
   ],
   "source": [
    "Sales.head()"
   ]
  },
  {
   "cell_type": "code",
   "execution_count": 36,
   "metadata": {},
   "outputs": [],
   "source": [
    "CreditsJune2023.rename(columns= {'Sales': 'Credits'}, inplace = True)"
   ]
  },
  {
   "cell_type": "code",
   "execution_count": 37,
   "metadata": {},
   "outputs": [],
   "source": [
    "CreditsJune = CreditsJune2023.groupby(by = 'Date', as_index = False)['Credits'].sum()"
   ]
  },
  {
   "cell_type": "code",
   "execution_count": 48,
   "metadata": {},
   "outputs": [],
   "source": [
    "CreditsSalesJune2023 = CreditsJune.merge(Sales, right_on = 'Date', left_on = 'Date', how = 'right')"
   ]
  },
  {
   "cell_type": "code",
   "execution_count": 49,
   "metadata": {},
   "outputs": [],
   "source": [
    "CreditsSalesJune2023 = CreditsSalesJune2023[['Date', 'Credits', 'Sales']] "
   ]
  },
  {
   "cell_type": "code",
   "execution_count": 50,
   "metadata": {},
   "outputs": [
    {
     "data": {
      "text/html": [
       "<div>\n",
       "<style scoped>\n",
       "    .dataframe tbody tr th:only-of-type {\n",
       "        vertical-align: middle;\n",
       "    }\n",
       "\n",
       "    .dataframe tbody tr th {\n",
       "        vertical-align: top;\n",
       "    }\n",
       "\n",
       "    .dataframe thead th {\n",
       "        text-align: right;\n",
       "    }\n",
       "</style>\n",
       "<table border=\"1\" class=\"dataframe\">\n",
       "  <thead>\n",
       "    <tr style=\"text-align: right;\">\n",
       "      <th></th>\n",
       "      <th>Date</th>\n",
       "      <th>Credits</th>\n",
       "      <th>Sales</th>\n",
       "    </tr>\n",
       "  </thead>\n",
       "  <tbody>\n",
       "    <tr>\n",
       "      <th>0</th>\n",
       "      <td>2023-06-01</td>\n",
       "      <td>20570.03</td>\n",
       "      <td>988514.90</td>\n",
       "    </tr>\n",
       "    <tr>\n",
       "      <th>1</th>\n",
       "      <td>2023-06-02</td>\n",
       "      <td>1706.28</td>\n",
       "      <td>642032.07</td>\n",
       "    </tr>\n",
       "    <tr>\n",
       "      <th>2</th>\n",
       "      <td>2023-06-03</td>\n",
       "      <td>5426.64</td>\n",
       "      <td>73019.70</td>\n",
       "    </tr>\n",
       "    <tr>\n",
       "      <th>3</th>\n",
       "      <td>2023-06-04</td>\n",
       "      <td>NaN</td>\n",
       "      <td>313163.97</td>\n",
       "    </tr>\n",
       "    <tr>\n",
       "      <th>4</th>\n",
       "      <td>2023-06-05</td>\n",
       "      <td>11010.77</td>\n",
       "      <td>1068661.16</td>\n",
       "    </tr>\n",
       "  </tbody>\n",
       "</table>\n",
       "</div>"
      ],
      "text/plain": [
       "        Date   Credits       Sales\n",
       "0 2023-06-01  20570.03   988514.90\n",
       "1 2023-06-02   1706.28   642032.07\n",
       "2 2023-06-03   5426.64    73019.70\n",
       "3 2023-06-04       NaN   313163.97\n",
       "4 2023-06-05  11010.77  1068661.16"
      ]
     },
     "execution_count": 50,
     "metadata": {},
     "output_type": "execute_result"
    }
   ],
   "source": [
    "CreditsSalesJune2023.head()"
   ]
  },
  {
   "cell_type": "code",
   "execution_count": 51,
   "metadata": {},
   "outputs": [],
   "source": [
    "# Selecting columns to standardize\n",
    "columns_to_standardize = ['Credits', 'Sales']\n",
    "\n",
    "# Standardizing the values\n",
    "scaler = StandardScaler()\n",
    "CreditsSalesJune2023[columns_to_standardize] = scaler.fit_transform(CreditsSalesJune2023[columns_to_standardize])"
   ]
  },
  {
   "cell_type": "code",
   "execution_count": 54,
   "metadata": {},
   "outputs": [],
   "source": [
    "CreditsSalesJune2023 = CreditsSalesJune2023.fillna(0)"
   ]
  },
  {
   "cell_type": "code",
   "execution_count": 58,
   "metadata": {},
   "outputs": [
    {
     "data": {
      "image/png": "[encoded data removed]",
      "text/plain": [
       "<Figure size 640x480 with 1 Axes>"
      ]
     },
     "metadata": {},
     "output_type": "display_data"
    }
   ],
   "source": [
    "# Creating the scatterplot\n",
    "sns.scatterplot(x='Sales', y='Credits', data=CreditsSalesJune2023)\n",
    "\n",
    "# Customizing the plot\n",
    "# plt.title('Scatterplot')  # Adding a title to the plot\n",
    "plt.xlabel('Sales')  # Adding a label to the x-axis\n",
    "plt.ylabel('Credits')  # Adding a label to the y-axis\n",
    "\n",
    "sns.despine(top=True, right=True, left=True, bottom=True)\n",
    "\n",
    "# Displaying the plot\n",
    "plt.tight_layout()  # Adjusting the spacing\n",
    "\n",
    "plt.savefig('ScatterSales.jpg')\n",
    "plt.show()"
   ]
  },
  {
   "attachments": {},
   "cell_type": "markdown",
   "metadata": {},
   "source": [
    "### Variación de créditos en el año"
   ]
  },
  {
   "cell_type": "code",
   "execution_count": 87,
   "metadata": {},
   "outputs": [],
   "source": [
    "Credits2023 = Credits[(Credits.Date >= '2023-01-01') & (Credits.Date <= '2023-06-30')]\n",
    "\n",
    "Credits2023.reset_index(drop = True, inplace = True)"
   ]
  },
  {
   "cell_type": "code",
   "execution_count": 89,
   "metadata": {},
   "outputs": [],
   "source": [
    "Credits2023 = Credits2023.rename(columns = {'Sales': 'Credits'})"
   ]
  },
  {
   "cell_type": "code",
   "execution_count": 92,
   "metadata": {},
   "outputs": [],
   "source": [
    "Credits2023 = Credits2023[(Credits2023.CreditReason == 'Spoilage - Customer')| (Credits2023.CreditReason == 'Bad Appearance')]"
   ]
  },
  {
   "cell_type": "code",
   "execution_count": 94,
   "metadata": {},
   "outputs": [],
   "source": [
    "Credits2023 = Credits2023[['Date', 'Credits']]"
   ]
  },
  {
   "cell_type": "code",
   "execution_count": 96,
   "metadata": {},
   "outputs": [],
   "source": [
    "Credits2023 = Credits2023.groupby(by = 'Date', as_index = False)['Credits'].sum()"
   ]
  },
  {
   "cell_type": "code",
   "execution_count": 98,
   "metadata": {},
   "outputs": [],
   "source": [
    "# Group the dataframe by month\n",
    "Credits2023 = Credits2023.groupby(pd.Grouper(key='Date', freq='M')).sum()\n",
    "\n",
    "# Reset the index to make the 'date' column a regular column instead of the index\n",
    "Credits2023 = Credits2023.reset_index()"
   ]
  },
  {
   "cell_type": "code",
   "execution_count": 99,
   "metadata": {},
   "outputs": [
    {
     "data": {
      "text/html": [
       "<div>\n",
       "<style scoped>\n",
       "    .dataframe tbody tr th:only-of-type {\n",
       "        vertical-align: middle;\n",
       "    }\n",
       "\n",
       "    .dataframe tbody tr th {\n",
       "        vertical-align: top;\n",
       "    }\n",
       "\n",
       "    .dataframe thead th {\n",
       "        text-align: right;\n",
       "    }\n",
       "</style>\n",
       "<table border=\"1\" class=\"dataframe\">\n",
       "  <thead>\n",
       "    <tr style=\"text-align: right;\">\n",
       "      <th></th>\n",
       "      <th>Date</th>\n",
       "      <th>Credits</th>\n",
       "    </tr>\n",
       "  </thead>\n",
       "  <tbody>\n",
       "    <tr>\n",
       "      <th>0</th>\n",
       "      <td>2023-01-31</td>\n",
       "      <td>33772.42</td>\n",
       "    </tr>\n",
       "    <tr>\n",
       "      <th>1</th>\n",
       "      <td>2023-02-28</td>\n",
       "      <td>21193.05</td>\n",
       "    </tr>\n",
       "    <tr>\n",
       "      <th>2</th>\n",
       "      <td>2023-03-31</td>\n",
       "      <td>21385.85</td>\n",
       "    </tr>\n",
       "    <tr>\n",
       "      <th>3</th>\n",
       "      <td>2023-04-30</td>\n",
       "      <td>39247.88</td>\n",
       "    </tr>\n",
       "    <tr>\n",
       "      <th>4</th>\n",
       "      <td>2023-05-31</td>\n",
       "      <td>35906.35</td>\n",
       "    </tr>\n",
       "    <tr>\n",
       "      <th>5</th>\n",
       "      <td>2023-06-30</td>\n",
       "      <td>43411.82</td>\n",
       "    </tr>\n",
       "  </tbody>\n",
       "</table>\n",
       "</div>"
      ],
      "text/plain": [
       "        Date   Credits\n",
       "0 2023-01-31  33772.42\n",
       "1 2023-02-28  21193.05\n",
       "2 2023-03-31  21385.85\n",
       "3 2023-04-30  39247.88\n",
       "4 2023-05-31  35906.35\n",
       "5 2023-06-30  43411.82"
      ]
     },
     "execution_count": 99,
     "metadata": {},
     "output_type": "execute_result"
    }
   ],
   "source": [
    "Credits2023"
   ]
  },
  {
   "cell_type": "code",
   "execution_count": 105,
   "metadata": {},
   "outputs": [
    {
     "data": {
      "text/plain": [
       "0.2647294977072301"
      ]
     },
     "execution_count": 105,
     "metadata": {},
     "output_type": "execute_result"
    }
   ],
   "source": [
    "(45411.82/35906.35) -1\n"
   ]
  },
  {
   "cell_type": "code",
   "execution_count": 102,
   "metadata": {},
   "outputs": [
    {
     "data": {
      "image/png": "[encoded data removed]",
      "text/plain": [
       "<Figure size 1000x600 with 1 Axes>"
      ]
     },
     "metadata": {},
     "output_type": "display_data"
    }
   ],
   "source": [
    "sns.set(style=\"whitegrid\")  # Setting the style of the plot\n",
    "plt.figure(figsize=(10, 6))  # Adjusting the figure size\n",
    "ax = sns.barplot(x='Date', y='Credits', data=Credits2023)\n",
    "\n",
    "locale.setlocale(locale.LC_ALL, 'en_US.UTF-8')\n",
    "\n",
    "# Adding labels to each bar\n",
    "for p in ax.patches:\n",
    "    height = p.get_height()\n",
    "    label = locale.currency(height, grouping=True)  # Format label as currency\n",
    "    ax.annotate(label,\n",
    "                (p.get_x() + p.get_width() / 2, height),\n",
    "                ha='center', va='center', xytext=(0, 5), textcoords='offset points',\n",
    "                fontsize = 9)\n",
    "\n",
    "# Customizing the plot\n",
    "# plt.title('Credits by State')  # Adding a title to the plot\n",
    "plt.xlabel('Months')  # Adding a label to the x-axis\n",
    "plt.ylabel('Credits')  # Adding a label to the x-axis\n",
    "\n",
    "x_labels = Credits2023['Date'].dt.strftime('%b')  # Custom format for month labels\n",
    "plt.xticks(range(len(Credits2023['Date'])), x_labels, rotation=0)\n",
    "\n",
    "plt.yticks([])\n",
    "sns.despine(top=True, right=True, left=True, bottom=True)\n",
    "\n",
    "# Adjusting the ylim to accommodate the labels\n",
    "plt.ylim(top=Credits2023['Credits'].max() * 1.1)  # Increase the y-axis limit for labels\n",
    "\n",
    "# Displaying the plot\n",
    "plt.tight_layout()  # Adjusting the spacing\n",
    "plt.savefig('CreditsbyMonth.jpg')\n",
    "\n",
    "plt.show()"
   ]
  }
 ],
 "metadata": {
  "kernelspec": {
   "display_name": "Python 3",
   "language": "python",
   "name": "python3"
  },
  "language_info": {
   "codemirror_mode": {
    "name": "ipython",
    "version": 3
   },
   "file_extension": ".py",
   "mimetype": "text/x-python",
   "name": "python",
   "nbconvert_exporter": "python",
   "pygments_lexer": "ipython3",
   "version": "3.11.2"
  },
  "orig_nbformat": 4
 },
 "nbformat": 4,
 "nbformat_minor": 2
}
