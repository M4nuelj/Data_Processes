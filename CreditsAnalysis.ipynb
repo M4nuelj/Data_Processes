{
 "cells": [
  {
   "attachments": {},
   "cell_type": "markdown",
   "metadata": {},
   "source": [
    "## This notebook will contain the credits analysis"
   ]
  },
  {
   "cell_type": "code",
   "execution_count": 1,
   "metadata": {},
   "outputs": [],
   "source": [
    "# Import the libraries that will be used within the code\n",
    "\n",
    "import pandas as pd\n",
    "import numpy as np\n",
    "import seaborn as sns\n",
    "import matplotlib.pyplot as plt\n",
    "import locale\n",
    "from sklearn.preprocessing import StandardScaler\n"
   ]
  },
  {
   "cell_type": "code",
   "execution_count": 2,
   "metadata": {},
   "outputs": [],
   "source": [
    "# Data is imported\n",
    "\n",
    "path = 'C:/Users/j.renza/OneDrive - Solvo a Turia Group Company/Credit Memos Data/'\n",
    "\n",
    "Clients = pd.read_excel(path + 'Client_Data.xlsx')\n",
    "\n",
    "Departments = pd.read_excel(path + 'Credit_Reasons_by_Department.xlsx')\n",
    "\n",
    "Credits = pd.read_excel(path + 'CreditMemos.xlsx')\n",
    "\n"
   ]
  },
  {
   "cell_type": "code",
   "execution_count": 3,
   "metadata": {},
   "outputs": [
    {
     "data": {
      "text/html": [
       "<div>\n",
       "<style scoped>\n",
       "    .dataframe tbody tr th:only-of-type {\n",
       "        vertical-align: middle;\n",
       "    }\n",
       "\n",
       "    .dataframe tbody tr th {\n",
       "        vertical-align: top;\n",
       "    }\n",
       "\n",
       "    .dataframe thead th {\n",
       "        text-align: right;\n",
       "    }\n",
       "</style>\n",
       "<table border=\"1\" class=\"dataframe\">\n",
       "  <thead>\n",
       "    <tr style=\"text-align: right;\">\n",
       "      <th></th>\n",
       "      <th>CustomerCode</th>\n",
       "      <th>Client_Name</th>\n",
       "    </tr>\n",
       "  </thead>\n",
       "  <tbody>\n",
       "    <tr>\n",
       "      <th>0</th>\n",
       "      <td>HKSEIN</td>\n",
       "      <td>ESTRELLA SUPERMERCADO</td>\n",
       "    </tr>\n",
       "    <tr>\n",
       "      <th>1</th>\n",
       "      <td>HRTIRG</td>\n",
       "      <td>EL MARISCO GRILL LLC</td>\n",
       "    </tr>\n",
       "    <tr>\n",
       "      <th>2</th>\n",
       "      <td>HKVPRR</td>\n",
       "      <td>TIENDA MEXICANA EL CHAPARRO</td>\n",
       "    </tr>\n",
       "    <tr>\n",
       "      <th>3</th>\n",
       "      <td>NRAFPE</td>\n",
       "      <td>FRONTERA PEACHTREE</td>\n",
       "    </tr>\n",
       "    <tr>\n",
       "      <th>4</th>\n",
       "      <td>HKVLIL</td>\n",
       "      <td>LILY'S CARNICERIA</td>\n",
       "    </tr>\n",
       "  </tbody>\n",
       "</table>\n",
       "</div>"
      ],
      "text/plain": [
       "  CustomerCode                  Client_Name\n",
       "0       HKSEIN        ESTRELLA SUPERMERCADO\n",
       "1       HRTIRG         EL MARISCO GRILL LLC\n",
       "2       HKVPRR  TIENDA MEXICANA EL CHAPARRO\n",
       "3       NRAFPE           FRONTERA PEACHTREE\n",
       "4       HKVLIL            LILY'S CARNICERIA"
      ]
     },
     "execution_count": 3,
     "metadata": {},
     "output_type": "execute_result"
    }
   ],
   "source": [
    "Clients.head()"
   ]
  },
  {
   "cell_type": "code",
   "execution_count": 4,
   "metadata": {},
   "outputs": [
    {
     "data": {
      "text/html": [
       "<div>\n",
       "<style scoped>\n",
       "    .dataframe tbody tr th:only-of-type {\n",
       "        vertical-align: middle;\n",
       "    }\n",
       "\n",
       "    .dataframe tbody tr th {\n",
       "        vertical-align: top;\n",
       "    }\n",
       "\n",
       "    .dataframe thead th {\n",
       "        text-align: right;\n",
       "    }\n",
       "</style>\n",
       "<table border=\"1\" class=\"dataframe\">\n",
       "  <thead>\n",
       "    <tr style=\"text-align: right;\">\n",
       "      <th></th>\n",
       "      <th>CRR</th>\n",
       "      <th>Dpt</th>\n",
       "    </tr>\n",
       "  </thead>\n",
       "  <tbody>\n",
       "    <tr>\n",
       "      <th>0</th>\n",
       "      <td>Not ordered (Sales/TLMKT)</td>\n",
       "      <td>Sales</td>\n",
       "    </tr>\n",
       "    <tr>\n",
       "      <th>1</th>\n",
       "      <td>Wrong Item (Sales/TLMKT)</td>\n",
       "      <td>Sales</td>\n",
       "    </tr>\n",
       "    <tr>\n",
       "      <th>2</th>\n",
       "      <td>Wrong Item (Customer)</td>\n",
       "      <td>Client</td>\n",
       "    </tr>\n",
       "    <tr>\n",
       "      <th>3</th>\n",
       "      <td>Wrong Item (Plant)</td>\n",
       "      <td>Warehouse</td>\n",
       "    </tr>\n",
       "    <tr>\n",
       "      <th>4</th>\n",
       "      <td>Wrong Brand</td>\n",
       "      <td>Purchasing/Warehouse</td>\n",
       "    </tr>\n",
       "  </tbody>\n",
       "</table>\n",
       "</div>"
      ],
      "text/plain": [
       "                         CRR                   Dpt\n",
       "0  Not ordered (Sales/TLMKT)                 Sales\n",
       "1   Wrong Item (Sales/TLMKT)                 Sales\n",
       "2      Wrong Item (Customer)                Client\n",
       "3         Wrong Item (Plant)             Warehouse\n",
       "4                Wrong Brand  Purchasing/Warehouse"
      ]
     },
     "execution_count": 4,
     "metadata": {},
     "output_type": "execute_result"
    }
   ],
   "source": [
    "Departments.head()"
   ]
  },
  {
   "cell_type": "code",
   "execution_count": 5,
   "metadata": {},
   "outputs": [
    {
     "data": {
      "text/html": [
       "<div>\n",
       "<style scoped>\n",
       "    .dataframe tbody tr th:only-of-type {\n",
       "        vertical-align: middle;\n",
       "    }\n",
       "\n",
       "    .dataframe tbody tr th {\n",
       "        vertical-align: top;\n",
       "    }\n",
       "\n",
       "    .dataframe thead th {\n",
       "        text-align: right;\n",
       "    }\n",
       "</style>\n",
       "<table border=\"1\" class=\"dataframe\">\n",
       "  <thead>\n",
       "    <tr style=\"text-align: right;\">\n",
       "      <th></th>\n",
       "      <th>Date</th>\n",
       "      <th>CreditReason</th>\n",
       "      <th>CustomerCode</th>\n",
       "      <th>State</th>\n",
       "      <th>CountInvoice</th>\n",
       "      <th>NetWeight</th>\n",
       "      <th>Sales</th>\n",
       "    </tr>\n",
       "  </thead>\n",
       "  <tbody>\n",
       "    <tr>\n",
       "      <th>0</th>\n",
       "      <td>2018-01-02</td>\n",
       "      <td>Wrong Item (Sales/TLMKT)</td>\n",
       "      <td>HKSEIN</td>\n",
       "      <td>SC</td>\n",
       "      <td>1</td>\n",
       "      <td>40.00</td>\n",
       "      <td>127.60</td>\n",
       "    </tr>\n",
       "    <tr>\n",
       "      <th>1</th>\n",
       "      <td>2018-01-02</td>\n",
       "      <td>Wrong Item (Sales/TLMKT)</td>\n",
       "      <td>HRTIRG</td>\n",
       "      <td>TN</td>\n",
       "      <td>1</td>\n",
       "      <td>66.00</td>\n",
       "      <td>164.34</td>\n",
       "    </tr>\n",
       "    <tr>\n",
       "      <th>2</th>\n",
       "      <td>2018-01-02</td>\n",
       "      <td>Wrong Item (Customer)</td>\n",
       "      <td>HKVPRR</td>\n",
       "      <td>VA</td>\n",
       "      <td>1</td>\n",
       "      <td>40.50</td>\n",
       "      <td>32.00</td>\n",
       "    </tr>\n",
       "    <tr>\n",
       "      <th>3</th>\n",
       "      <td>2018-01-02</td>\n",
       "      <td>Wrong Item (Customer)</td>\n",
       "      <td>NRAFPE</td>\n",
       "      <td>GA</td>\n",
       "      <td>1</td>\n",
       "      <td>7.14</td>\n",
       "      <td>121.49</td>\n",
       "    </tr>\n",
       "    <tr>\n",
       "      <th>4</th>\n",
       "      <td>2018-01-02</td>\n",
       "      <td>Wrong Brand</td>\n",
       "      <td>HKVLIL</td>\n",
       "      <td>VA</td>\n",
       "      <td>1</td>\n",
       "      <td>341.70</td>\n",
       "      <td>1844.84</td>\n",
       "    </tr>\n",
       "  </tbody>\n",
       "</table>\n",
       "</div>"
      ],
      "text/plain": [
       "        Date              CreditReason CustomerCode State  CountInvoice  \\\n",
       "0 2018-01-02  Wrong Item (Sales/TLMKT)       HKSEIN    SC             1   \n",
       "1 2018-01-02  Wrong Item (Sales/TLMKT)       HRTIRG    TN             1   \n",
       "2 2018-01-02     Wrong Item (Customer)       HKVPRR    VA             1   \n",
       "3 2018-01-02     Wrong Item (Customer)       NRAFPE    GA             1   \n",
       "4 2018-01-02               Wrong Brand       HKVLIL    VA             1   \n",
       "\n",
       "   NetWeight    Sales  \n",
       "0      40.00   127.60  \n",
       "1      66.00   164.34  \n",
       "2      40.50    32.00  \n",
       "3       7.14   121.49  \n",
       "4     341.70  1844.84  "
      ]
     },
     "execution_count": 5,
     "metadata": {},
     "output_type": "execute_result"
    }
   ],
   "source": [
    "Credits.head()"
   ]
  },
  {
   "cell_type": "code",
   "execution_count": 6,
   "metadata": {},
   "outputs": [],
   "source": [
    "# Credits by Month\n",
    "\n",
    "init_date = '2023-05-01'\n",
    "\n",
    "end_date = '2023-05-31'"
   ]
  },
  {
   "cell_type": "code",
   "execution_count": 7,
   "metadata": {},
   "outputs": [],
   "source": [
    "CreditsJune2023 = Credits[(Credits.Date >= init_date) & (Credits.Date <= end_date)]\n",
    "\n",
    "CreditsJune2023.reset_index(drop = True, inplace = True)"
   ]
  },
  {
   "cell_type": "code",
   "execution_count": 8,
   "metadata": {},
   "outputs": [],
   "source": [
    "Temp1 = CreditsJune2023.merge(Clients, right_on = 'CustomerCode', left_on = 'CustomerCode', how = 'inner')"
   ]
  },
  {
   "cell_type": "code",
   "execution_count": 9,
   "metadata": {},
   "outputs": [],
   "source": [
    "CreditsJune2023 = Temp1.merge(Departments, right_on = 'CRR', left_on = 'CreditReason', how = 'inner')"
   ]
  },
  {
   "cell_type": "code",
   "execution_count": 10,
   "metadata": {},
   "outputs": [],
   "source": [
    "CreditsJune2023 = CreditsJune2023[['Date', 'CRR', 'CustomerCode', 'Client_Name', 'State', 'CountInvoice', 'NetWeight', 'Sales', 'Dpt']]"
   ]
  },
  {
   "cell_type": "code",
   "execution_count": 11,
   "metadata": {},
   "outputs": [
    {
     "data": {
      "text/html": [
       "<div>\n",
       "<style scoped>\n",
       "    .dataframe tbody tr th:only-of-type {\n",
       "        vertical-align: middle;\n",
       "    }\n",
       "\n",
       "    .dataframe tbody tr th {\n",
       "        vertical-align: top;\n",
       "    }\n",
       "\n",
       "    .dataframe thead th {\n",
       "        text-align: right;\n",
       "    }\n",
       "</style>\n",
       "<table border=\"1\" class=\"dataframe\">\n",
       "  <thead>\n",
       "    <tr style=\"text-align: right;\">\n",
       "      <th></th>\n",
       "      <th>Date</th>\n",
       "      <th>CRR</th>\n",
       "      <th>CustomerCode</th>\n",
       "      <th>Client_Name</th>\n",
       "      <th>State</th>\n",
       "      <th>CountInvoice</th>\n",
       "      <th>NetWeight</th>\n",
       "      <th>Sales</th>\n",
       "      <th>Dpt</th>\n",
       "    </tr>\n",
       "  </thead>\n",
       "  <tbody>\n",
       "    <tr>\n",
       "      <th>0</th>\n",
       "      <td>2023-05-01</td>\n",
       "      <td>Wrong Brand</td>\n",
       "      <td>HRGFIA</td>\n",
       "      <td>COCINA SOFIA ROSWELL</td>\n",
       "      <td>GA</td>\n",
       "      <td>1</td>\n",
       "      <td>206.14</td>\n",
       "      <td>368.99</td>\n",
       "      <td>Purchasing/Warehouse</td>\n",
       "    </tr>\n",
       "    <tr>\n",
       "      <th>1</th>\n",
       "      <td>2023-05-04</td>\n",
       "      <td>Wrong Brand</td>\n",
       "      <td>HKVORI</td>\n",
       "      <td>LA VICTORIA TIENDA</td>\n",
       "      <td>VA</td>\n",
       "      <td>1</td>\n",
       "      <td>80.00</td>\n",
       "      <td>287.20</td>\n",
       "      <td>Purchasing/Warehouse</td>\n",
       "    </tr>\n",
       "    <tr>\n",
       "      <th>2</th>\n",
       "      <td>2023-05-31</td>\n",
       "      <td>Wrong Brand</td>\n",
       "      <td>HKVEMA</td>\n",
       "      <td>E MART</td>\n",
       "      <td>VA</td>\n",
       "      <td>1</td>\n",
       "      <td>238.26</td>\n",
       "      <td>855.35</td>\n",
       "      <td>Purchasing/Warehouse</td>\n",
       "    </tr>\n",
       "    <tr>\n",
       "      <th>3</th>\n",
       "      <td>2023-05-09</td>\n",
       "      <td>Wrong Brand</td>\n",
       "      <td>HRKEET</td>\n",
       "      <td>EL DORADO STREET TACOS FOOD TRUCK</td>\n",
       "      <td>KY</td>\n",
       "      <td>1</td>\n",
       "      <td>147.60</td>\n",
       "      <td>662.72</td>\n",
       "      <td>Purchasing/Warehouse</td>\n",
       "    </tr>\n",
       "    <tr>\n",
       "      <th>4</th>\n",
       "      <td>2023-05-11</td>\n",
       "      <td>Wrong Brand</td>\n",
       "      <td>HKNTOR</td>\n",
       "      <td>EL TORO CARNICERIA</td>\n",
       "      <td>NC</td>\n",
       "      <td>1</td>\n",
       "      <td>300.00</td>\n",
       "      <td>927.00</td>\n",
       "      <td>Purchasing/Warehouse</td>\n",
       "    </tr>\n",
       "  </tbody>\n",
       "</table>\n",
       "</div>"
      ],
      "text/plain": [
       "        Date          CRR CustomerCode                        Client_Name  \\\n",
       "0 2023-05-01  Wrong Brand       HRGFIA               COCINA SOFIA ROSWELL   \n",
       "1 2023-05-04  Wrong Brand       HKVORI                 LA VICTORIA TIENDA   \n",
       "2 2023-05-31  Wrong Brand       HKVEMA                             E MART   \n",
       "3 2023-05-09  Wrong Brand       HRKEET  EL DORADO STREET TACOS FOOD TRUCK   \n",
       "4 2023-05-11  Wrong Brand       HKNTOR                 EL TORO CARNICERIA   \n",
       "\n",
       "  State  CountInvoice  NetWeight   Sales                   Dpt  \n",
       "0    GA             1     206.14  368.99  Purchasing/Warehouse  \n",
       "1    VA             1      80.00  287.20  Purchasing/Warehouse  \n",
       "2    VA             1     238.26  855.35  Purchasing/Warehouse  \n",
       "3    KY             1     147.60  662.72  Purchasing/Warehouse  \n",
       "4    NC             1     300.00  927.00  Purchasing/Warehouse  "
      ]
     },
     "execution_count": 11,
     "metadata": {},
     "output_type": "execute_result"
    }
   ],
   "source": [
    "CreditsJune2023.head()"
   ]
  },
  {
   "cell_type": "code",
   "execution_count": 12,
   "metadata": {},
   "outputs": [
    {
     "data": {
      "text/plain": [
       "154659.17"
      ]
     },
     "execution_count": 12,
     "metadata": {},
     "output_type": "execute_result"
    }
   ],
   "source": [
    "round(CreditsJune2023.Sales.sum(),2)"
   ]
  },
  {
   "cell_type": "code",
   "execution_count": 13,
   "metadata": {},
   "outputs": [],
   "source": [
    "SpoilageCustomer = CreditsJune2023[CreditsJune2023.CRR == 'Spoilage - Customer']"
   ]
  },
  {
   "cell_type": "code",
   "execution_count": 14,
   "metadata": {},
   "outputs": [
    {
     "data": {
      "text/plain": [
       "16591.69"
      ]
     },
     "execution_count": 14,
     "metadata": {},
     "output_type": "execute_result"
    }
   ],
   "source": [
    "SpoilageCustomer.Sales.sum()"
   ]
  },
  {
   "cell_type": "code",
   "execution_count": 15,
   "metadata": {},
   "outputs": [
    {
     "data": {
      "text/plain": [
       "0.10727905755604403"
      ]
     },
     "execution_count": 15,
     "metadata": {},
     "output_type": "execute_result"
    }
   ],
   "source": [
    "SpoilageCustomer.Sales.sum()/CreditsJune2023.Sales.sum()"
   ]
  },
  {
   "cell_type": "code",
   "execution_count": 16,
   "metadata": {},
   "outputs": [],
   "source": [
    "dataSC = SpoilageCustomer.groupby(by = 'State', as_index = False)['Sales'].sum().sort_values(by = 'Sales', ascending = False)"
   ]
  },
  {
   "cell_type": "code",
   "execution_count": 61,
   "metadata": {},
   "outputs": [
    {
     "data": {
      "text/plain": [
       "0.3688466937364428"
      ]
     },
     "execution_count": 61,
     "metadata": {},
     "output_type": "execute_result"
    }
   ],
   "source": [
    "6119.79/SpoilageCustomer.Sales.sum()"
   ]
  },
  {
   "attachments": {},
   "cell_type": "markdown",
   "metadata": {},
   "source": [
    "### Spoilage - Customer"
   ]
  },
  {
   "cell_type": "code",
   "execution_count": 18,
   "metadata": {},
   "outputs": [
    {
     "data": {
      "image/png": "[encoded data removed]",
      "text/plain": [
       "<Figure size 1000x600 with 1 Axes>"
      ]
     },
     "metadata": {},
     "output_type": "display_data"
    }
   ],
   "source": [
    "sns.set(style=\"whitegrid\")  # Setting the style of the plot\n",
    "plt.figure(figsize=(10, 6))  # Adjusting the figure size\n",
    "ax = sns.barplot(x='State', y='Sales', data=dataSC)\n",
    "\n",
    "locale.setlocale(locale.LC_ALL, 'en_US.UTF-8')\n",
    "\n",
    "# Adding labels to each bar\n",
    "for p in ax.patches:\n",
    "    height = p.get_height()\n",
    "    label = locale.currency(height, grouping=True)  # Format label as currency\n",
    "    ax.annotate(label,\n",
    "                (p.get_x() + p.get_width() / 2, height),\n",
    "                ha='center', va='center', xytext=(0, 5), textcoords='offset points',\n",
    "                fontsize = 9)\n",
    "\n",
    "# Customizing the plot\n",
    "# plt.title('Credits by State')  # Adding a title to the plot\n",
    "plt.xlabel('States')  # Adding a label to the x-axis\n",
    "plt.ylabel('Credits')  # Adding a label to the x-axis\n",
    "plt.xticks(rotation=0)  # Rotating x-axis labels for better readability\n",
    "\n",
    "plt.yticks([])\n",
    "sns.despine(top=True, right=True, left=True, bottom=True)\n",
    "\n",
    "# Adjusting the ylim to accommodate the labels\n",
    "plt.ylim(top=dataSC['Sales'].max() * 1.1)  # Increase the y-axis limit for labels\n",
    "\n",
    "# Displaying the plot\n",
    "plt.tight_layout()  # Adjusting the spacing\n",
    "plt.savefig('SCbyState.jpg')\n",
    "\n",
    "plt.show()"
   ]
  },
  {
   "attachments": {},
   "cell_type": "markdown",
   "metadata": {},
   "source": [
    "## Bad Appearance"
   ]
  },
  {
   "cell_type": "code",
   "execution_count": 19,
   "metadata": {},
   "outputs": [
    {
     "data": {
      "text/plain": [
       "array(['Wrong Brand', 'Old CM, Not Notified.', 'Spoilage - Customer',\n",
       "       'Not In Truck', 'Wrong Item (Sales/TLMKT)',\n",
       "       'Ordered, But Not Wanted', 'Inadequate Expiration Date',\n",
       "       'Not In Truck/Wrong Truck', 'Not In Truck/Wrong Customer',\n",
       "       'Wrong Item (Plant)', 'Cut Out Of Specs (Processing)',\n",
       "       'Bad Appearance', 'Not ordered (Sales/TLMKT)',\n",
       "       'Not In Truck/End Route', 'Substituted, Rejected for Cust',\n",
       "       'Spoilage - PM', 'Business Closed', 'Wrong Item (Customer)',\n",
       "       'Not In Time', 'Maltreated/Mold', 'Billing Error',\n",
       "       'Weight Not Required', 'Wrongly Invoiced'], dtype=object)"
      ]
     },
     "execution_count": 19,
     "metadata": {},
     "output_type": "execute_result"
    }
   ],
   "source": [
    "CreditsJune2023.CRR.unique()"
   ]
  },
  {
   "cell_type": "code",
   "execution_count": 20,
   "metadata": {},
   "outputs": [],
   "source": [
    "BadAppearance = CreditsJune2023[CreditsJune2023.CRR == 'Bad Appearance']"
   ]
  },
  {
   "cell_type": "code",
   "execution_count": 21,
   "metadata": {},
   "outputs": [
    {
     "data": {
      "text/plain": [
       "19314.660000000003"
      ]
     },
     "execution_count": 21,
     "metadata": {},
     "output_type": "execute_result"
    }
   ],
   "source": [
    "BadAppearance.Sales.sum()"
   ]
  },
  {
   "cell_type": "code",
   "execution_count": 22,
   "metadata": {},
   "outputs": [
    {
     "data": {
      "text/plain": [
       "0.1248853204113277"
      ]
     },
     "execution_count": 22,
     "metadata": {},
     "output_type": "execute_result"
    }
   ],
   "source": [
    "BadAppearance.Sales.sum()/CreditsJune2023.Sales.sum()"
   ]
  },
  {
   "cell_type": "code",
   "execution_count": 23,
   "metadata": {},
   "outputs": [],
   "source": [
    "dataBA = BadAppearance.groupby(by = 'State', as_index = False)['Sales'].sum().sort_values(by = 'Sales', ascending = False)"
   ]
  },
  {
   "cell_type": "code",
   "execution_count": 62,
   "metadata": {},
   "outputs": [
    {
     "data": {
      "text/plain": [
       "0.9435263162799654"
      ]
     },
     "execution_count": 62,
     "metadata": {},
     "output_type": "execute_result"
    }
   ],
   "source": [
    "18223.89/BadAppearance.Sales.sum()"
   ]
  },
  {
   "cell_type": "code",
   "execution_count": 25,
   "metadata": {},
   "outputs": [
    {
     "data": {
      "image/png": "[encoded data removed]",
      "text/plain": [
       "<Figure size 1000x600 with 1 Axes>"
      ]
     },
     "metadata": {},
     "output_type": "display_data"
    }
   ],
   "source": [
    "sns.set(style=\"whitegrid\")  # Setting the style of the plot\n",
    "plt.figure(figsize=(10, 6))  # Adjusting the figure size\n",
    "ax = sns.barplot(x='State', y='Sales', data=dataBA)\n",
    "\n",
    "locale.setlocale(locale.LC_ALL, 'en_US.UTF-8')\n",
    "\n",
    "# Adding labels to each bar\n",
    "for p in ax.patches:\n",
    "    height = p.get_height()\n",
    "    label = locale.currency(height, grouping=True)  # Format label as currency\n",
    "    ax.annotate(label,\n",
    "                (p.get_x() + p.get_width() / 2, height),\n",
    "                ha='center', va='center', xytext=(0, 5), textcoords='offset points',\n",
    "                fontsize = 9)\n",
    "\n",
    "# Customizing the plot\n",
    "# plt.title('Credits by State')  # Adding a title to the plot\n",
    "plt.xlabel('States')  # Adding a label to the x-axis\n",
    "plt.ylabel('Credits')  # Adding a label to the x-axis\n",
    "plt.xticks(rotation=0)  # Rotating x-axis labels for better readability\n",
    "\n",
    "plt.yticks([])\n",
    "sns.despine(top=True, right=True, left=True, bottom=True)\n",
    "\n",
    "# Adjusting the ylim to accommodate the labels\n",
    "plt.ylim(top=dataBA['Sales'].max() * 1.1)  # Increase the y-axis limit for labels\n",
    "\n",
    "# Displaying the plot\n",
    "plt.tight_layout()  # Adjusting the spacing\n",
    "plt.savefig('BAbyState.jpg')\n",
    "\n",
    "plt.show()"
   ]
  },
  {
   "attachments": {},
   "cell_type": "markdown",
   "metadata": {},
   "source": [
    "## Spoilage PM"
   ]
  },
  {
   "cell_type": "code",
   "execution_count": 26,
   "metadata": {},
   "outputs": [],
   "source": [
    "SpoilagePM = CreditsJune2023[CreditsJune2023.CRR == 'Spoilage PM']"
   ]
  },
  {
   "cell_type": "code",
   "execution_count": 27,
   "metadata": {},
   "outputs": [
    {
     "data": {
      "text/html": [
       "<div>\n",
       "<style scoped>\n",
       "    .dataframe tbody tr th:only-of-type {\n",
       "        vertical-align: middle;\n",
       "    }\n",
       "\n",
       "    .dataframe tbody tr th {\n",
       "        vertical-align: top;\n",
       "    }\n",
       "\n",
       "    .dataframe thead th {\n",
       "        text-align: right;\n",
       "    }\n",
       "</style>\n",
       "<table border=\"1\" class=\"dataframe\">\n",
       "  <thead>\n",
       "    <tr style=\"text-align: right;\">\n",
       "      <th></th>\n",
       "      <th>Date</th>\n",
       "      <th>CRR</th>\n",
       "      <th>CustomerCode</th>\n",
       "      <th>Client_Name</th>\n",
       "      <th>State</th>\n",
       "      <th>CountInvoice</th>\n",
       "      <th>NetWeight</th>\n",
       "      <th>Sales</th>\n",
       "      <th>Dpt</th>\n",
       "    </tr>\n",
       "  </thead>\n",
       "  <tbody>\n",
       "  </tbody>\n",
       "</table>\n",
       "</div>"
      ],
      "text/plain": [
       "Empty DataFrame\n",
       "Columns: [Date, CRR, CustomerCode, Client_Name, State, CountInvoice, NetWeight, Sales, Dpt]\n",
       "Index: []"
      ]
     },
     "execution_count": 27,
     "metadata": {},
     "output_type": "execute_result"
    }
   ],
   "source": [
    "SpoilagePM"
   ]
  },
  {
   "attachments": {},
   "cell_type": "markdown",
   "metadata": {},
   "source": [
    "## Statistical Behavior"
   ]
  },
  {
   "cell_type": "code",
   "execution_count": 28,
   "metadata": {},
   "outputs": [
    {
     "data": {
      "image/png": "[encoded data removed]",
      "text/plain": [
       "<Figure size 640x480 with 1 Axes>"
      ]
     },
     "metadata": {},
     "output_type": "display_data"
    }
   ],
   "source": [
    "# Creating the histogram\n",
    "sns.histplot(data= CreditsJune2023, x ='Sales', bins=10, kde=True)\n",
    "\n",
    "# Customizing the plot\n",
    "plt.title('Distribution of Credits')  # Adding a title to the plot\n",
    "plt.xlabel('Credits')  # Adding a label to the x-axis\n",
    "plt.ylabel('Frequency')  # Adding a label to the y-axis\n",
    "\n",
    "# plt.yticks([])\n",
    "sns.despine(top=True, right=True, left=True, bottom=True)\n",
    "\n",
    "# Displaying the plot\n",
    "plt.tight_layout()  # Adjusting the spacing\n",
    "plt.savefig('HistogramCredits2023.jpg')\n",
    "plt.show()"
   ]
  },
  {
   "cell_type": "code",
   "execution_count": 29,
   "metadata": {},
   "outputs": [],
   "source": [
    "#  Scatterplot Sales Vs Credits\n",
    "\n",
    "Sales = pd.read_excel(path + 'Sales2023.xlsx')"
   ]
  },
  {
   "cell_type": "code",
   "execution_count": 30,
   "metadata": {},
   "outputs": [],
   "source": [
    "# Sales['Date'] = Sales.Date.astype('str')"
   ]
  },
  {
   "cell_type": "code",
   "execution_count": 31,
   "metadata": {},
   "outputs": [],
   "source": [
    "SalesApril2023 = Sales[(Sales.Date >= init_date) & (Sales.Date <= end_date)]\n",
    "\n",
    "SalesApril2023.reset_index(drop = True, inplace = True)"
   ]
  },
  {
   "cell_type": "code",
   "execution_count": 32,
   "metadata": {},
   "outputs": [
    {
     "data": {
      "text/html": [
       "<div>\n",
       "<style scoped>\n",
       "    .dataframe tbody tr th:only-of-type {\n",
       "        vertical-align: middle;\n",
       "    }\n",
       "\n",
       "    .dataframe tbody tr th {\n",
       "        vertical-align: top;\n",
       "    }\n",
       "\n",
       "    .dataframe thead th {\n",
       "        text-align: right;\n",
       "    }\n",
       "</style>\n",
       "<table border=\"1\" class=\"dataframe\">\n",
       "  <thead>\n",
       "    <tr style=\"text-align: right;\">\n",
       "      <th></th>\n",
       "      <th>Date</th>\n",
       "      <th>Day</th>\n",
       "      <th>Sales</th>\n",
       "    </tr>\n",
       "  </thead>\n",
       "  <tbody>\n",
       "    <tr>\n",
       "      <th>0</th>\n",
       "      <td>2023-05-01</td>\n",
       "      <td>Monday</td>\n",
       "      <td>1146538.85</td>\n",
       "    </tr>\n",
       "    <tr>\n",
       "      <th>1</th>\n",
       "      <td>2023-05-02</td>\n",
       "      <td>Tuesday</td>\n",
       "      <td>1120491.49</td>\n",
       "    </tr>\n",
       "    <tr>\n",
       "      <th>2</th>\n",
       "      <td>2023-05-03</td>\n",
       "      <td>Wednesday</td>\n",
       "      <td>1014244.24</td>\n",
       "    </tr>\n",
       "    <tr>\n",
       "      <th>3</th>\n",
       "      <td>2023-05-04</td>\n",
       "      <td>Thursday</td>\n",
       "      <td>1044876.07</td>\n",
       "    </tr>\n",
       "    <tr>\n",
       "      <th>4</th>\n",
       "      <td>2023-05-05</td>\n",
       "      <td>Friday</td>\n",
       "      <td>596836.17</td>\n",
       "    </tr>\n",
       "  </tbody>\n",
       "</table>\n",
       "</div>"
      ],
      "text/plain": [
       "        Date        Day       Sales\n",
       "0 2023-05-01     Monday  1146538.85\n",
       "1 2023-05-02    Tuesday  1120491.49\n",
       "2 2023-05-03  Wednesday  1014244.24\n",
       "3 2023-05-04   Thursday  1044876.07\n",
       "4 2023-05-05     Friday   596836.17"
      ]
     },
     "execution_count": 32,
     "metadata": {},
     "output_type": "execute_result"
    }
   ],
   "source": [
    "SalesApril2023.head()"
   ]
  },
  {
   "cell_type": "code",
   "execution_count": 33,
   "metadata": {},
   "outputs": [],
   "source": [
    "# SalesApril2023 = SalesApril2023.rename(columns= {'Sales': 'Credits'})"
   ]
  },
  {
   "cell_type": "code",
   "execution_count": 34,
   "metadata": {},
   "outputs": [],
   "source": [
    "SalesApril = SalesApril2023.groupby(by = 'Date', as_index = False)['Sales'].sum()"
   ]
  },
  {
   "cell_type": "code",
   "execution_count": 35,
   "metadata": {},
   "outputs": [],
   "source": [
    "CreditsJune2023 = CreditsJune2023.rename(columns= {'Sales': 'Credits'})"
   ]
  },
  {
   "cell_type": "code",
   "execution_count": 36,
   "metadata": {},
   "outputs": [],
   "source": [
    "CreditsSalesApril2023 = CreditsJune2023.merge(SalesApril2023, right_on = 'Date', left_on = 'Date', how = 'right')"
   ]
  },
  {
   "cell_type": "code",
   "execution_count": 37,
   "metadata": {},
   "outputs": [
    {
     "data": {
      "text/html": [
       "<div>\n",
       "<style scoped>\n",
       "    .dataframe tbody tr th:only-of-type {\n",
       "        vertical-align: middle;\n",
       "    }\n",
       "\n",
       "    .dataframe tbody tr th {\n",
       "        vertical-align: top;\n",
       "    }\n",
       "\n",
       "    .dataframe thead th {\n",
       "        text-align: right;\n",
       "    }\n",
       "</style>\n",
       "<table border=\"1\" class=\"dataframe\">\n",
       "  <thead>\n",
       "    <tr style=\"text-align: right;\">\n",
       "      <th></th>\n",
       "      <th>Date</th>\n",
       "      <th>CRR</th>\n",
       "      <th>CustomerCode</th>\n",
       "      <th>Client_Name</th>\n",
       "      <th>State</th>\n",
       "      <th>CountInvoice</th>\n",
       "      <th>NetWeight</th>\n",
       "      <th>Credits</th>\n",
       "      <th>Dpt</th>\n",
       "      <th>Day</th>\n",
       "      <th>Sales</th>\n",
       "    </tr>\n",
       "  </thead>\n",
       "  <tbody>\n",
       "    <tr>\n",
       "      <th>0</th>\n",
       "      <td>2023-05-01</td>\n",
       "      <td>Wrong Brand</td>\n",
       "      <td>HRGFIA</td>\n",
       "      <td>COCINA SOFIA ROSWELL</td>\n",
       "      <td>GA</td>\n",
       "      <td>1.0</td>\n",
       "      <td>206.14</td>\n",
       "      <td>368.99</td>\n",
       "      <td>Purchasing/Warehouse</td>\n",
       "      <td>Monday</td>\n",
       "      <td>1146538.85</td>\n",
       "    </tr>\n",
       "    <tr>\n",
       "      <th>1</th>\n",
       "      <td>2023-05-01</td>\n",
       "      <td>Old CM, Not Notified.</td>\n",
       "      <td>HRNIAI</td>\n",
       "      <td>TAQUERIA RINCON LATINO</td>\n",
       "      <td>NC</td>\n",
       "      <td>1.0</td>\n",
       "      <td>0.00</td>\n",
       "      <td>190.62</td>\n",
       "      <td>Sales</td>\n",
       "      <td>Monday</td>\n",
       "      <td>1146538.85</td>\n",
       "    </tr>\n",
       "    <tr>\n",
       "      <th>2</th>\n",
       "      <td>2023-05-01</td>\n",
       "      <td>Old CM, Not Notified.</td>\n",
       "      <td>HRVERO</td>\n",
       "      <td>VERONICAS FOOD TRUCK</td>\n",
       "      <td>VA</td>\n",
       "      <td>1.0</td>\n",
       "      <td>0.00</td>\n",
       "      <td>377.80</td>\n",
       "      <td>Sales</td>\n",
       "      <td>Monday</td>\n",
       "      <td>1146538.85</td>\n",
       "    </tr>\n",
       "    <tr>\n",
       "      <th>3</th>\n",
       "      <td>2023-05-01</td>\n",
       "      <td>Not In Truck</td>\n",
       "      <td>HRFDIA</td>\n",
       "      <td>DIANAS MEXICAN FOOD</td>\n",
       "      <td>FL</td>\n",
       "      <td>1.0</td>\n",
       "      <td>0.00</td>\n",
       "      <td>46.00</td>\n",
       "      <td>Logistics</td>\n",
       "      <td>Monday</td>\n",
       "      <td>1146538.85</td>\n",
       "    </tr>\n",
       "    <tr>\n",
       "      <th>4</th>\n",
       "      <td>2023-05-01</td>\n",
       "      <td>Not In Truck</td>\n",
       "      <td>HRFIRA</td>\n",
       "      <td>MIRANDAS RESTAURANT</td>\n",
       "      <td>FL</td>\n",
       "      <td>1.0</td>\n",
       "      <td>0.00</td>\n",
       "      <td>186.53</td>\n",
       "      <td>Logistics</td>\n",
       "      <td>Monday</td>\n",
       "      <td>1146538.85</td>\n",
       "    </tr>\n",
       "  </tbody>\n",
       "</table>\n",
       "</div>"
      ],
      "text/plain": [
       "        Date                    CRR CustomerCode             Client_Name  \\\n",
       "0 2023-05-01            Wrong Brand       HRGFIA    COCINA SOFIA ROSWELL   \n",
       "1 2023-05-01  Old CM, Not Notified.       HRNIAI  TAQUERIA RINCON LATINO   \n",
       "2 2023-05-01  Old CM, Not Notified.       HRVERO    VERONICAS FOOD TRUCK   \n",
       "3 2023-05-01           Not In Truck       HRFDIA     DIANAS MEXICAN FOOD   \n",
       "4 2023-05-01           Not In Truck       HRFIRA     MIRANDAS RESTAURANT   \n",
       "\n",
       "  State  CountInvoice  NetWeight  Credits                   Dpt     Day  \\\n",
       "0    GA           1.0     206.14   368.99  Purchasing/Warehouse  Monday   \n",
       "1    NC           1.0       0.00   190.62                 Sales  Monday   \n",
       "2    VA           1.0       0.00   377.80                 Sales  Monday   \n",
       "3    FL           1.0       0.00    46.00             Logistics  Monday   \n",
       "4    FL           1.0       0.00   186.53             Logistics  Monday   \n",
       "\n",
       "        Sales  \n",
       "0  1146538.85  \n",
       "1  1146538.85  \n",
       "2  1146538.85  \n",
       "3  1146538.85  \n",
       "4  1146538.85  "
      ]
     },
     "execution_count": 37,
     "metadata": {},
     "output_type": "execute_result"
    }
   ],
   "source": [
    "CreditsSalesApril2023.head()"
   ]
  },
  {
   "cell_type": "code",
   "execution_count": 38,
   "metadata": {},
   "outputs": [],
   "source": [
    "CreditsSalesApril2023 = CreditsSalesApril2023[['Date', 'Credits', 'Sales']] "
   ]
  },
  {
   "cell_type": "code",
   "execution_count": 39,
   "metadata": {},
   "outputs": [
    {
     "data": {
      "text/html": [
       "<div>\n",
       "<style scoped>\n",
       "    .dataframe tbody tr th:only-of-type {\n",
       "        vertical-align: middle;\n",
       "    }\n",
       "\n",
       "    .dataframe tbody tr th {\n",
       "        vertical-align: top;\n",
       "    }\n",
       "\n",
       "    .dataframe thead th {\n",
       "        text-align: right;\n",
       "    }\n",
       "</style>\n",
       "<table border=\"1\" class=\"dataframe\">\n",
       "  <thead>\n",
       "    <tr style=\"text-align: right;\">\n",
       "      <th></th>\n",
       "      <th>Date</th>\n",
       "      <th>Credits</th>\n",
       "      <th>Sales</th>\n",
       "    </tr>\n",
       "  </thead>\n",
       "  <tbody>\n",
       "    <tr>\n",
       "      <th>0</th>\n",
       "      <td>2023-05-01</td>\n",
       "      <td>368.99</td>\n",
       "      <td>1146538.85</td>\n",
       "    </tr>\n",
       "    <tr>\n",
       "      <th>1</th>\n",
       "      <td>2023-05-01</td>\n",
       "      <td>190.62</td>\n",
       "      <td>1146538.85</td>\n",
       "    </tr>\n",
       "    <tr>\n",
       "      <th>2</th>\n",
       "      <td>2023-05-01</td>\n",
       "      <td>377.80</td>\n",
       "      <td>1146538.85</td>\n",
       "    </tr>\n",
       "    <tr>\n",
       "      <th>3</th>\n",
       "      <td>2023-05-01</td>\n",
       "      <td>46.00</td>\n",
       "      <td>1146538.85</td>\n",
       "    </tr>\n",
       "    <tr>\n",
       "      <th>4</th>\n",
       "      <td>2023-05-01</td>\n",
       "      <td>186.53</td>\n",
       "      <td>1146538.85</td>\n",
       "    </tr>\n",
       "  </tbody>\n",
       "</table>\n",
       "</div>"
      ],
      "text/plain": [
       "        Date  Credits       Sales\n",
       "0 2023-05-01   368.99  1146538.85\n",
       "1 2023-05-01   190.62  1146538.85\n",
       "2 2023-05-01   377.80  1146538.85\n",
       "3 2023-05-01    46.00  1146538.85\n",
       "4 2023-05-01   186.53  1146538.85"
      ]
     },
     "execution_count": 39,
     "metadata": {},
     "output_type": "execute_result"
    }
   ],
   "source": [
    "CreditsSalesApril2023.head()"
   ]
  },
  {
   "cell_type": "code",
   "execution_count": 40,
   "metadata": {},
   "outputs": [],
   "source": [
    "CreditsSalesApril2023 = CreditsSalesApril2023.fillna(0)"
   ]
  },
  {
   "cell_type": "code",
   "execution_count": 41,
   "metadata": {},
   "outputs": [],
   "source": [
    "# Selecting columns to standardize\n",
    "columns_to_standardize = ['Credits', 'Sales']\n",
    "\n",
    "# Standardizing the values\n",
    "scaler = StandardScaler()\n",
    "CreditsSalesApril2023[columns_to_standardize] = scaler.fit_transform(CreditsSalesApril2023[columns_to_standardize])"
   ]
  },
  {
   "cell_type": "code",
   "execution_count": 42,
   "metadata": {},
   "outputs": [
    {
     "data": {
      "image/png": "[encoded data removed]",
      "text/plain": [
       "<Figure size 640x480 with 1 Axes>"
      ]
     },
     "metadata": {},
     "output_type": "display_data"
    }
   ],
   "source": [
    "# Creating the scatterplot\n",
    "sns.scatterplot(x='Sales', y='Credits', data = CreditsSalesApril2023)\n",
    "\n",
    "# Customizing the plot\n",
    "# plt.title('Scatterplot')  # Adding a title to the plot\n",
    "plt.xlabel('Sales')  # Adding a label to the x-axis\n",
    "plt.ylabel('Credits')  # Adding a label to the y-axis\n",
    "\n",
    "sns.despine(top=True, right=True, left=True, bottom=True)\n",
    "\n",
    "# Displaying the plot\n",
    "plt.tight_layout()  # Adjusting the spacing\n",
    "\n",
    "plt.savefig('ScatterSales.jpg')\n",
    "plt.show()"
   ]
  },
  {
   "attachments": {},
   "cell_type": "markdown",
   "metadata": {},
   "source": [
    "### Variación de créditos en el año"
   ]
  },
  {
   "cell_type": "code",
   "execution_count": 52,
   "metadata": {},
   "outputs": [],
   "source": [
    "Credits2023 = Credits[(Credits.Date >= '2023-01-01') & (Credits.Date <= '2023-05-31')]\n",
    "\n",
    "Credits2023.reset_index(drop = True, inplace = True)"
   ]
  },
  {
   "cell_type": "code",
   "execution_count": 53,
   "metadata": {},
   "outputs": [],
   "source": [
    "Credits2023 = Credits2023.rename(columns = {'Sales': 'Credits'})"
   ]
  },
  {
   "cell_type": "code",
   "execution_count": 54,
   "metadata": {},
   "outputs": [],
   "source": [
    "Credits2023 = Credits2023[(Credits2023.CreditReason == 'Spoilage - Customer')| (Credits2023.CreditReason == 'Bad Appearance')]"
   ]
  },
  {
   "cell_type": "code",
   "execution_count": 55,
   "metadata": {},
   "outputs": [],
   "source": [
    "Credits2023 = Credits2023[['Date', 'Credits']]"
   ]
  },
  {
   "cell_type": "code",
   "execution_count": 56,
   "metadata": {},
   "outputs": [],
   "source": [
    "Credits2023 = Credits2023.groupby(by = 'Date', as_index = False)['Credits'].sum()"
   ]
  },
  {
   "cell_type": "code",
   "execution_count": 57,
   "metadata": {},
   "outputs": [],
   "source": [
    "# Group the dataframe by month\n",
    "Credits2023 = Credits2023.groupby(pd.Grouper(key='Date', freq='M')).sum()\n",
    "\n",
    "# Reset the index to make the 'date' column a regular column instead of the index\n",
    "Credits2023 = Credits2023.reset_index()"
   ]
  },
  {
   "cell_type": "code",
   "execution_count": 58,
   "metadata": {},
   "outputs": [
    {
     "data": {
      "text/html": [
       "<div>\n",
       "<style scoped>\n",
       "    .dataframe tbody tr th:only-of-type {\n",
       "        vertical-align: middle;\n",
       "    }\n",
       "\n",
       "    .dataframe tbody tr th {\n",
       "        vertical-align: top;\n",
       "    }\n",
       "\n",
       "    .dataframe thead th {\n",
       "        text-align: right;\n",
       "    }\n",
       "</style>\n",
       "<table border=\"1\" class=\"dataframe\">\n",
       "  <thead>\n",
       "    <tr style=\"text-align: right;\">\n",
       "      <th></th>\n",
       "      <th>Date</th>\n",
       "      <th>Credits</th>\n",
       "    </tr>\n",
       "  </thead>\n",
       "  <tbody>\n",
       "    <tr>\n",
       "      <th>0</th>\n",
       "      <td>2023-01-31</td>\n",
       "      <td>33772.42</td>\n",
       "    </tr>\n",
       "    <tr>\n",
       "      <th>1</th>\n",
       "      <td>2023-02-28</td>\n",
       "      <td>21193.05</td>\n",
       "    </tr>\n",
       "    <tr>\n",
       "      <th>2</th>\n",
       "      <td>2023-03-31</td>\n",
       "      <td>21385.85</td>\n",
       "    </tr>\n",
       "    <tr>\n",
       "      <th>3</th>\n",
       "      <td>2023-04-30</td>\n",
       "      <td>39247.88</td>\n",
       "    </tr>\n",
       "    <tr>\n",
       "      <th>4</th>\n",
       "      <td>2023-05-31</td>\n",
       "      <td>35906.35</td>\n",
       "    </tr>\n",
       "  </tbody>\n",
       "</table>\n",
       "</div>"
      ],
      "text/plain": [
       "        Date   Credits\n",
       "0 2023-01-31  33772.42\n",
       "1 2023-02-28  21193.05\n",
       "2 2023-03-31  21385.85\n",
       "3 2023-04-30  39247.88\n",
       "4 2023-05-31  35906.35"
      ]
     },
     "execution_count": 58,
     "metadata": {},
     "output_type": "execute_result"
    }
   ],
   "source": [
    "Credits2023"
   ]
  },
  {
   "cell_type": "code",
   "execution_count": 59,
   "metadata": {},
   "outputs": [
    {
     "data": {
      "text/plain": [
       "0.2647294977072301"
      ]
     },
     "execution_count": 59,
     "metadata": {},
     "output_type": "execute_result"
    }
   ],
   "source": [
    "(45411.82/35906.35) -1\n"
   ]
  },
  {
   "cell_type": "code",
   "execution_count": 60,
   "metadata": {},
   "outputs": [
    {
     "data": {
      "image/png": "[encoded data removed]",
      "text/plain": [
       "<Figure size 1000x600 with 1 Axes>"
      ]
     },
     "metadata": {},
     "output_type": "display_data"
    }
   ],
   "source": [
    "sns.set(style=\"whitegrid\")  # Setting the style of the plot\n",
    "plt.figure(figsize=(10, 6))  # Adjusting the figure size\n",
    "ax = sns.barplot(x='Date', y='Credits', data=Credits2023)\n",
    "\n",
    "locale.setlocale(locale.LC_ALL, 'en_US.UTF-8')\n",
    "\n",
    "# Adding labels to each bar\n",
    "for p in ax.patches:\n",
    "    height = p.get_height()\n",
    "    label = locale.currency(height, grouping=True)  # Format label as currency\n",
    "    ax.annotate(label,\n",
    "                (p.get_x() + p.get_width() / 2, height),\n",
    "                ha='center', va='center', xytext=(0, 5), textcoords='offset points',\n",
    "                fontsize = 9)\n",
    "\n",
    "# Customizing the plot\n",
    "# plt.title('Credits by State')  # Adding a title to the plot\n",
    "plt.xlabel('Months')  # Adding a label to the x-axis\n",
    "plt.ylabel('Credits')  # Adding a label to the x-axis\n",
    "\n",
    "x_labels = Credits2023['Date'].dt.strftime('%b')  # Custom format for month labels\n",
    "plt.xticks(range(len(Credits2023['Date'])), x_labels, rotation=0)\n",
    "\n",
    "plt.yticks([])\n",
    "sns.despine(top=True, right=True, left=True, bottom=True)\n",
    "\n",
    "# Adjusting the ylim to accommodate the labels\n",
    "plt.ylim(top=Credits2023['Credits'].max() * 1.1)  # Increase the y-axis limit for labels\n",
    "\n",
    "# Displaying the plot\n",
    "plt.tight_layout()  # Adjusting the spacing\n",
    "plt.savefig('CreditsbyMonth.jpg')\n",
    "\n",
    "plt.show()"
   ]
  }
 ],
 "metadata": {
  "kernelspec": {
   "display_name": "Python 3",
   "language": "python",
   "name": "python3"
  },
  "language_info": {
   "codemirror_mode": {
    "name": "ipython",
    "version": 3
   },
   "file_extension": ".py",
   "mimetype": "text/x-python",
   "name": "python",
   "nbconvert_exporter": "python",
   "pygments_lexer": "ipython3",
   "version": "3.11.2"
  },
  "orig_nbformat": 4
 },
 "nbformat": 4,
 "nbformat_minor": 2
}
